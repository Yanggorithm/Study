{
 "cells": [
  {
   "cell_type": "markdown",
   "metadata": {},
   "source": [
    "[태성] - 3주차, 알고리즘 5개"
   ]
  }
 ],
 "metadata": {
  "language_info": {
   "name": "python"
  }
 },
 "nbformat": 4,
 "nbformat_minor": 2
}
