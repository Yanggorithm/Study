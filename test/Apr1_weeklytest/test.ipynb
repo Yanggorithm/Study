{
 "cells": [
  {
   "attachments": {},
   "cell_type": "markdown",
   "metadata": {},
   "source": [
    "# 4월 1주차 주간평가 대비\n",
    "\n",
    "<br>\n",
    "\n",
    "### 과목평가 6회차 (알고리즘)\n",
    "### 3문제/2시간(코드작성2, 서술형1)\n",
    "### 범위 : Start (진법변환), 컴퓨팅사고력(계산복잡도), 완전탐색, 백트래킹\n",
    "\n",
    "<br>\n",
    "\n",
    "# 예상 문제\n",
    "\n",
    "## - 진법 변화 16진수 -> 2진수 변환\n",
    "\n",
    "[관련자료](https://edu.ssafy.com/edu/lectureroom/curriculumn/curriculumnWeeklyList.do)\n",
    "\n",
    "Start 교재 - 42p ~ 57p\n",
    "\n",
    "## - big O notation (시간복잡도 빅오표기법)\n",
    "\n",
    "[관련자료](https://edu.ssafy.com/edu/lectureroom/curriculumn/curriculumnWeeklyList.do)\n",
    "\n",
    "컴퓨팅사고력 교재 - 72p ~ 135p\n",
    "\n",
    "80p ~ 는 풀어보기\n",
    "\n",
    "103p ~ 는 중요\n",
    "\n",
    "124p ~ 는 매우 중요\n"
   ]
  }
 ],
 "metadata": {
  "language_info": {
   "name": "python"
  },
  "orig_nbformat": 4
 },
 "nbformat": 4,
 "nbformat_minor": 2
}
