{
 "cells": [
  {
   "attachments": {},
   "cell_type": "markdown",
   "metadata": {},
   "source": [
    "- 조합인데 만약 1개짜리 조합 2개짜리 조합 ... n개 짜리 조합 을 모두 구해서 계산 해야한다면??\n",
    "\n",
    "- 비트연산으로 하면 간단하다! 아래 코드 참고"
   ]
  },
  {
   "cell_type": "code",
   "execution_count": 2,
   "metadata": {},
   "outputs": [
    {
     "name": "stdout",
     "output_type": "stream",
     "text": [
      "[]\n",
      "[3]\n",
      "[7]\n",
      "[3, 7]\n",
      "[8]\n",
      "[3, 8]\n",
      "[7, 8]\n",
      "[3, 7, 8]\n",
      "[1]\n",
      "[3, 1]\n",
      "[7, 1]\n",
      "[3, 7, 1]\n",
      "[8, 1]\n",
      "[3, 8, 1]\n",
      "[7, 8, 1]\n",
      "[3, 7, 8, 1]\n",
      "[5]\n",
      "[3, 5]\n",
      "[7, 5]\n",
      "[3, 7, 5]\n",
      "[8, 5]\n",
      "[3, 8, 5]\n",
      "[7, 8, 5]\n",
      "[3, 7, 8, 5]\n",
      "[1, 5]\n",
      "[3, 1, 5]\n",
      "[7, 1, 5]\n",
      "[3, 7, 1, 5]\n",
      "[8, 1, 5]\n",
      "[3, 8, 1, 5]\n",
      "[7, 8, 1, 5]\n",
      "[3, 7, 8, 1, 5]\n",
      "[4]\n",
      "[3, 4]\n",
      "[7, 4]\n",
      "[3, 7, 4]\n",
      "[8, 4]\n",
      "[3, 8, 4]\n",
      "[7, 8, 4]\n",
      "[3, 7, 8, 4]\n",
      "[1, 4]\n",
      "[3, 1, 4]\n",
      "[7, 1, 4]\n",
      "[3, 7, 1, 4]\n",
      "[8, 1, 4]\n",
      "[3, 8, 1, 4]\n",
      "[7, 8, 1, 4]\n",
      "[3, 7, 8, 1, 4]\n",
      "[5, 4]\n",
      "[3, 5, 4]\n",
      "[7, 5, 4]\n",
      "[3, 7, 5, 4]\n",
      "[8, 5, 4]\n",
      "[3, 8, 5, 4]\n",
      "[7, 8, 5, 4]\n",
      "[3, 7, 8, 5, 4]\n",
      "[1, 5, 4]\n",
      "[3, 1, 5, 4]\n",
      "[7, 1, 5, 4]\n",
      "[3, 7, 1, 5, 4]\n",
      "[8, 1, 5, 4]\n",
      "[3, 8, 1, 5, 4]\n",
      "[7, 8, 1, 5, 4]\n",
      "[3, 7, 8, 1, 5, 4]\n",
      "64\n"
     ]
    }
   ],
   "source": [
    "arr = [3,7,8,1,5,4]\n",
    "n = len(arr)\n",
    "\n",
    "for i in range(1<<n):\n",
    "    check_list = []\n",
    "    for j in range(n):\n",
    "        if i & (1<<j):\n",
    "            check_list.append(arr[j])\n",
    "    print(check_list)\n"
   ]
  },
  {
   "attachments": {},
   "cell_type": "markdown",
   "metadata": {},
   "source": [
    "- nCr = n-1Cr-1 + n-1Cr - 재귀적 표현\n",
    "\n",
    "- nC0 = 1"
   ]
  },
  {
   "cell_type": "code",
   "execution_count": 5,
   "metadata": {},
   "outputs": [
    {
     "name": "stdout",
     "output_type": "stream",
     "text": [
      "0 1 2\n",
      "0 1 3\n",
      "0 1 4\n",
      "0 2 3\n",
      "0 2 4\n",
      "0 3 4\n",
      "1 2 3\n",
      "1 2 4\n",
      "1 3 4\n",
      "2 3 4\n"
     ]
    }
   ],
   "source": [
    "# n개에서 3개 고르는 조합 - 고르는 갯수만큼 for문\n",
    "n = 5\n",
    "for i in range(n-2):\n",
    "    for j in range(i+1,n-1):\n",
    "        for k in range(j+1,n):\n",
    "            print(i,j,k)"
   ]
  },
  {
   "attachments": {},
   "cell_type": "markdown",
   "metadata": {},
   "source": [
    "- n개에서 r개 고르는 조합(재귀로 풀어보자)"
   ]
  },
  {
   "cell_type": "code",
   "execution_count": 8,
   "metadata": {},
   "outputs": [
    {
     "name": "stdout",
     "output_type": "stream",
     "text": [
      "3 2 1\n",
      "4 2 1\n",
      "5 2 1\n",
      "4 3 1\n",
      "5 3 1\n",
      "5 4 1\n",
      "4 3 2\n",
      "5 3 2\n",
      "5 4 2\n",
      "5 4 3\n"
     ]
    }
   ],
   "source": [
    "A = [1, 2, 3, 4, 5]\n",
    "comb = [0, 0, 0]\n",
    "\n",
    "\n",
    "def nCr(n, r, s):\n",
    "    '''\n",
    "    n: n개\n",
    "    r: r개 선택\n",
    "    s: 선택할 수 있는 구간의 시작\n",
    "    '''\n",
    "\n",
    "    if r == 0:\n",
    "        print(*comb)\n",
    "    else:\n",
    "        for i in range(s, n-r+1):\n",
    "            comb[r-1] = A[i]\n",
    "            nCr(n, r-1, i+1)\n",
    "\n",
    "\n",
    "nCr(len(A), 3, 0)\n"
   ]
  },
  {
   "attachments": {},
   "cell_type": "markdown",
   "metadata": {},
   "source": [
    "# 부분집합과 조합의 차이\n",
    "\n",
    "- 부분집합 : 모든 조합들 1개뽑는 조합, 2개뽑는 조합, ... , n개뽑는 조합\n",
    "- 조합 : 부분집합의 작은 부분 n 개중 r 개 뽑는 조합 (단일)"
   ]
  },
  {
   "attachments": {},
   "cell_type": "markdown",
   "metadata": {},
   "source": [
    "# greedy algorithm\n",
    "\n",
    "- 거스름돈 줄이기가 가장 대표적인 알고리즘"
   ]
  },
  {
   "cell_type": "code",
   "execution_count": 20,
   "metadata": {},
   "outputs": [
    {
     "name": "stdout",
     "output_type": "stream",
     "text": [
      "실패\n"
     ]
    }
   ],
   "source": [
    "# baby-gin 그리디 알고리즘으로 다시 풀어보기\n",
    "# triplet 먼저 검색해야 못찾는 해가 안나옴.\n",
    "\n",
    "'''\n",
    "124783\n",
    "667767\n",
    "054060\n",
    "101123\n",
    "'''\n",
    "\n",
    "\n",
    "def solve_baby(arr):\n",
    "    check_list = [0] * 10\n",
    "    flag = 0\n",
    "    for i in arr:\n",
    "        check_list[i] += 1\n",
    "\n",
    "    # triplet 부터 검사\n",
    "    while True:\n",
    "        if max(check_list) >= 3:\n",
    "            idx = check_list.index(max(check_list))\n",
    "            check_list[idx] -= 3\n",
    "            flag += 1\n",
    "        else:\n",
    "            break\n",
    "\n",
    "    # run 검사\n",
    "    while True:\n",
    "        run = 0\n",
    "        for i in range(len(check_list)):\n",
    "            # 0이 아닌 숫자라면 run 증가\n",
    "            if check_list[i]:\n",
    "                run += 1\n",
    "                check_list[i] -= 1\n",
    "            # 연속되지 않으면 의미가 없으므로 run 값 초기화\n",
    "            else:\n",
    "                run = 0\n",
    "\n",
    "            # run이 3일때 즉 run이 달성되면 flag 증가후 run값 초기화\n",
    "            if run == 3:\n",
    "                flag += 1\n",
    "                run = 0\n",
    "                break\n",
    "        else:\n",
    "            break\n",
    "\n",
    "    if flag == 2:\n",
    "        print('성공')\n",
    "        return\n",
    "    else:\n",
    "        print('실패')\n",
    "\n",
    "\n",
    "new_arr = list(map(int, input()))\n",
    "solve_baby(new_arr)\n"
   ]
  },
  {
   "cell_type": "code",
   "execution_count": 23,
   "metadata": {},
   "outputs": [
    {
     "name": "stdout",
     "output_type": "stream",
     "text": [
      "[1, 2, 3]\n",
      "[1, 2, 4]\n",
      "[1, 2, 5]\n",
      "[1, 3, 4]\n",
      "[1, 3, 5]\n",
      "[1, 4, 5]\n",
      "[2, 3, 4]\n",
      "[2, 3, 5]\n",
      "[2, 4, 5]\n",
      "[3, 4, 5]\n"
     ]
    }
   ],
   "source": [
    "lst = [1, 2, 3, 4, 5]\n",
    "N = 5\n",
    "R = 3\n",
    "\n",
    "# n개 중에 r개 고르는 경우의 수\n",
    "\n",
    "# 1. idx 번째 숫자를 고를지 고르지 않을지 결정\n",
    "\n",
    "def comb(idx, r, selected):\n",
    "    \n",
    "    # 종료 조건.\n",
    "    if idx == N:\n",
    "        # print(selected)\n",
    "        \n",
    "        if r == R:\n",
    "            print(selected)\n",
    "        \n",
    "        return\n",
    "    \n",
    "    # 재귀 호출.\n",
    "    # 고르고 진행 하던가.\n",
    "    selected.append(lst[idx])\n",
    "    comb(idx+1, r+1, selected)\n",
    "    # 고르지 않고 진행하던가.\n",
    "    selected.pop()\n",
    "    comb(idx+1, r, selected)\n",
    "    \n",
    "    \n",
    "\n",
    "comb(0,0,[])"
   ]
  },
  {
   "cell_type": "code",
   "execution_count": 24,
   "metadata": {},
   "outputs": [
    {
     "name": "stdout",
     "output_type": "stream",
     "text": [
      "[1, 2, 3]\n",
      "[1, 2, 4]\n",
      "[1, 2, 5]\n",
      "[1, 3, 4]\n",
      "[1, 3, 5]\n",
      "[1, 4, 5]\n",
      "[2, 3, 4]\n",
      "[2, 3, 5]\n",
      "[2, 4, 5]\n",
      "[3, 4, 5]\n"
     ]
    }
   ],
   "source": [
    "# 2. R개 고를때까지 계속 선택\n",
    "\n",
    "# 내가 idx 번째 원소를 골랐다면, idx 이전에 있는 친구는 고려하지 않고\n",
    "# 뒤에 있는것만 선택\n",
    "\n",
    "def comb2(idx, selected):\n",
    "    # 종료 조건.\n",
    "    if len(selected) == R:\n",
    "        print(selected)\n",
    "        return\n",
    "    \n",
    "    # 재귀 호출\n",
    "    # 현재 위치 idx 기준 i >= idx i번째 숫자를 하나 고르고 진행.\n",
    "    for i in range(idx,N):\n",
    "        comb2(i+1, selected+[lst[i]])\n",
    "    \n",
    "comb2(0,[])"
   ]
  }
 ],
 "metadata": {
  "kernelspec": {
   "display_name": "Python 3",
   "language": "python",
   "name": "python3"
  },
  "language_info": {
   "codemirror_mode": {
    "name": "ipython",
    "version": 3
   },
   "file_extension": ".py",
   "mimetype": "text/x-python",
   "name": "python",
   "nbconvert_exporter": "python",
   "pygments_lexer": "ipython3",
   "version": "3.9.12"
  },
  "orig_nbformat": 4
 },
 "nbformat": 4,
 "nbformat_minor": 2
}
